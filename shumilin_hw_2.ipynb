{
  "nbformat": 4,
  "nbformat_minor": 0,
  "metadata": {
    "colab": {
      "provenance": []
    },
    "kernelspec": {
      "name": "python3",
      "display_name": "Python 3"
    },
    "language_info": {
      "name": "python"
    }
  },
  "cells": [
    {
      "cell_type": "code",
      "execution_count": null,
      "metadata": {
        "id": "N0pW_eyfLjX1"
      },
      "outputs": [],
      "source": [
        "import pandas as pd\n",
        "from sklearn.preprocessing import OneHotEncoder, StandardScaler\n",
        "from sklearn.model_selection import train_test_split\n",
        "import optuna\n",
        "from sklearn.cluster import KMeans, DBSCAN, OPTICS\n",
        "from sklearn.metrics import adjusted_rand_score\n",
        "from imblearn.over_sampling import SMOTE\n",
        "import warnings\n",
        "\n",
        "warnings.filterwarnings(\"ignore\")"
      ]
    },
    {
      "cell_type": "markdown",
      "source": [
        "*Воспользуемся обработкой файла из прошлого домашнего задания и применим оверсемплинг, так как есть сильна перебалансировка классов*"
      ],
      "metadata": {
        "id": "2Sm1-BGETvh3"
      }
    },
    {
      "cell_type": "code",
      "source": [
        "df = pd.read_csv(\"/content/drive/MyDrive/healthcare-dataset-stroke-data.csv\", usecols = lambda x: x != \"id\")"
      ],
      "metadata": {
        "id": "fkX7GgIkMP0f"
      },
      "execution_count": null,
      "outputs": []
    },
    {
      "cell_type": "code",
      "source": [
        "numerical = [\"age\", \"avg_glucose_level\", \"bmi\"]\n",
        "categorical = [column for column in df.columns if (column not in numerical)]\n",
        "\n",
        "df[\"bmi\"] = df[\"bmi\"].fillna(df[\"bmi\"].median())\n",
        "\n",
        "encoder = OneHotEncoder(drop = \"first\")\n",
        "encoded_features = encoder.fit_transform(df[categorical[:-1]])\n",
        "encoded_df = pd.DataFrame(encoded_features.toarray(), columns=encoder.get_feature_names_out(categorical[:-1]))\n",
        "df = pd.concat([df.drop(columns = categorical[:-1]), encoded_df], axis = 1)\n",
        "\n",
        "X = df.drop(\"stroke\", axis = 1)\n",
        "y = df[\"stroke\"]\n",
        "\n",
        "smote = SMOTE(random_state=42)\n",
        "X, y = smote.fit_resample(X, y)\n",
        "\n",
        "X_train, X_test, y_train, y_test = train_test_split(X, y, test_size = 0.3, random_state = 42)\n",
        "\n",
        "scaler = StandardScaler()\n",
        "X_train = scaler.fit_transform(X_train)\n",
        "X_test = scaler.transform(X_test)"
      ],
      "metadata": {
        "id": "NVcUzRgCL943"
      },
      "execution_count": null,
      "outputs": []
    },
    {
      "cell_type": "markdown",
      "source": [
        "*С помощью optuna подберём гиперпараметры для максимизации метрики ARI и воспользуемся тремя методами класторизации: KMeans, DBSCAN, OPTICS*"
      ],
      "metadata": {
        "id": "ZcqWIPh0USAl"
      }
    },
    {
      "cell_type": "code",
      "source": [
        "def optimize_kmeans(trial):\n",
        "    n_clusters = trial.suggest_int(\"n_clusters\", 2, 10)\n",
        "    kmeans = KMeans(n_clusters = n_clusters, random_state = 42)\n",
        "    kmeans.fit(X_train)\n",
        "    labels = kmeans.predict(X_test)\n",
        "    return adjusted_rand_score(y_test, labels)\n",
        "\n",
        "def optimize_dbscan(trial):\n",
        "    eps = trial.suggest_float(\"eps\", 0.1, 1.0, step = 0.1)\n",
        "    min_samples = trial.suggest_int(\"min_samples\", 3, 20)\n",
        "    dbscan = DBSCAN(eps = eps, min_samples = min_samples)\n",
        "    labels = dbscan.fit_predict(X_test)\n",
        "    if len(set(labels)) == 1:\n",
        "        return -1.0\n",
        "    return adjusted_rand_score(y_test, labels)\n",
        "\n",
        "def optimize_optics(trial):\n",
        "    min_samples = trial.suggest_int(\"min_samples\", 3, 20)\n",
        "    max_eps = trial.suggest_float(\"max_eps\", 0.1, 2.0, step = 0.1)\n",
        "    optics = OPTICS(min_samples = min_samples, max_eps = max_eps)\n",
        "    labels = optics.fit_predict(X_test)\n",
        "    if len(set(labels)) == 1:\n",
        "        return -1.0\n",
        "    return adjusted_rand_score(y_test, labels)"
      ],
      "metadata": {
        "id": "BQxgDut6L_et"
      },
      "execution_count": null,
      "outputs": []
    },
    {
      "cell_type": "code",
      "source": [
        "study_kmeans = optuna.create_study(direction=\"maximize\")\n",
        "study_kmeans.optimize(optimize_kmeans, n_trials=20)\n",
        "\n",
        "study_dbscan = optuna.create_study(direction=\"maximize\")\n",
        "study_dbscan.optimize(optimize_dbscan, n_trials=20)\n",
        "\n",
        "study_optics = optuna.create_study(direction=\"maximize\")\n",
        "study_optics.optimize(optimize_optics, n_trials=20)"
      ],
      "metadata": {
        "colab": {
          "base_uri": "https://localhost:8080/"
        },
        "id": "9Il00zJbMBoT",
        "outputId": "c3529163-85d0-4104-8e0e-085657d948ea"
      },
      "execution_count": null,
      "outputs": [
        {
          "output_type": "stream",
          "name": "stderr",
          "text": [
            "[I 2024-12-21 22:16:55,651] A new study created in memory with name: no-name-15910e78-7dfc-453a-a6ea-dc258e87cd04\n",
            "[I 2024-12-21 22:16:55,689] Trial 0 finished with value: 0.038318757485446976 and parameters: {'n_clusters': 8}. Best is trial 0 with value: 0.038318757485446976.\n",
            "[I 2024-12-21 22:16:55,725] Trial 1 finished with value: 0.047731975654157745 and parameters: {'n_clusters': 6}. Best is trial 1 with value: 0.047731975654157745.\n",
            "[I 2024-12-21 22:16:55,768] Trial 2 finished with value: 0.03857334138281314 and parameters: {'n_clusters': 9}. Best is trial 1 with value: 0.047731975654157745.\n",
            "[I 2024-12-21 22:16:55,806] Trial 3 finished with value: 0.0223805734074346 and parameters: {'n_clusters': 3}. Best is trial 1 with value: 0.047731975654157745.\n",
            "[I 2024-12-21 22:16:55,871] Trial 4 finished with value: 0.047731975654157745 and parameters: {'n_clusters': 6}. Best is trial 1 with value: 0.047731975654157745.\n",
            "[I 2024-12-21 22:16:55,930] Trial 5 finished with value: 0.03857334138281314 and parameters: {'n_clusters': 9}. Best is trial 1 with value: 0.047731975654157745.\n",
            "[I 2024-12-21 22:16:55,983] Trial 6 finished with value: 0.03857334138281314 and parameters: {'n_clusters': 9}. Best is trial 1 with value: 0.047731975654157745.\n",
            "[I 2024-12-21 22:16:56,040] Trial 7 finished with value: 0.04768727867302899 and parameters: {'n_clusters': 7}. Best is trial 1 with value: 0.047731975654157745.\n",
            "[I 2024-12-21 22:16:56,095] Trial 8 finished with value: 0.05708070812955797 and parameters: {'n_clusters': 4}. Best is trial 8 with value: 0.05708070812955797.\n",
            "[I 2024-12-21 22:16:56,134] Trial 9 finished with value: 0.03404731392629122 and parameters: {'n_clusters': 5}. Best is trial 8 with value: 0.05708070812955797.\n",
            "[I 2024-12-21 22:16:56,186] Trial 10 finished with value: 0.022755424633839675 and parameters: {'n_clusters': 2}. Best is trial 8 with value: 0.05708070812955797.\n",
            "[I 2024-12-21 22:16:56,242] Trial 11 finished with value: 0.05708070812955797 and parameters: {'n_clusters': 4}. Best is trial 8 with value: 0.05708070812955797.\n",
            "[I 2024-12-21 22:16:56,307] Trial 12 finished with value: 0.05708070812955797 and parameters: {'n_clusters': 4}. Best is trial 8 with value: 0.05708070812955797.\n",
            "[I 2024-12-21 22:16:56,383] Trial 13 finished with value: 0.05708070812955797 and parameters: {'n_clusters': 4}. Best is trial 8 with value: 0.05708070812955797.\n",
            "[I 2024-12-21 22:16:56,433] Trial 14 finished with value: 0.022755424633839675 and parameters: {'n_clusters': 2}. Best is trial 8 with value: 0.05708070812955797.\n",
            "[I 2024-12-21 22:16:56,491] Trial 15 finished with value: 0.05708070812955797 and parameters: {'n_clusters': 4}. Best is trial 8 with value: 0.05708070812955797.\n",
            "[I 2024-12-21 22:16:56,555] Trial 16 finished with value: 0.03404731392629122 and parameters: {'n_clusters': 5}. Best is trial 8 with value: 0.05708070812955797.\n",
            "[I 2024-12-21 22:16:56,633] Trial 17 finished with value: 0.0223805734074346 and parameters: {'n_clusters': 3}. Best is trial 8 with value: 0.05708070812955797.\n",
            "[I 2024-12-21 22:16:56,724] Trial 18 finished with value: 0.03404731392629122 and parameters: {'n_clusters': 5}. Best is trial 8 with value: 0.05708070812955797.\n",
            "[I 2024-12-21 22:16:56,811] Trial 19 finished with value: 0.0223805734074346 and parameters: {'n_clusters': 3}. Best is trial 8 with value: 0.05708070812955797.\n",
            "[I 2024-12-21 22:16:56,818] A new study created in memory with name: no-name-1cdcc428-4e1a-48eb-b0f0-405dd6d2404f\n",
            "[I 2024-12-21 22:16:56,925] Trial 0 finished with value: 0.007421818772411956 and parameters: {'eps': 0.6, 'min_samples': 19}. Best is trial 0 with value: 0.007421818772411956.\n",
            "[I 2024-12-21 22:16:56,998] Trial 1 finished with value: 0.002513242541718255 and parameters: {'eps': 0.4, 'min_samples': 11}. Best is trial 0 with value: 0.007421818772411956.\n",
            "[I 2024-12-21 22:16:57,069] Trial 2 finished with value: 0.005475675725258466 and parameters: {'eps': 0.5, 'min_samples': 15}. Best is trial 0 with value: 0.007421818772411956.\n",
            "[I 2024-12-21 22:16:57,142] Trial 3 finished with value: 0.006110591884584471 and parameters: {'eps': 0.5, 'min_samples': 14}. Best is trial 0 with value: 0.007421818772411956.\n",
            "[I 2024-12-21 22:16:57,218] Trial 4 finished with value: 0.009295523854558506 and parameters: {'eps': 0.4, 'min_samples': 4}. Best is trial 4 with value: 0.009295523854558506.\n",
            "[I 2024-12-21 22:16:57,302] Trial 5 finished with value: -1.0 and parameters: {'eps': 0.30000000000000004, 'min_samples': 18}. Best is trial 4 with value: 0.009295523854558506.\n",
            "[I 2024-12-21 22:16:57,394] Trial 6 finished with value: 0.030335339136809133 and parameters: {'eps': 0.8, 'min_samples': 14}. Best is trial 6 with value: 0.030335339136809133.\n",
            "[I 2024-12-21 22:16:57,472] Trial 7 finished with value: 0.01819930433836655 and parameters: {'eps': 1.0, 'min_samples': 4}. Best is trial 6 with value: 0.030335339136809133.\n",
            "[I 2024-12-21 22:16:57,548] Trial 8 finished with value: 0.004189864338199076 and parameters: {'eps': 0.4, 'min_samples': 9}. Best is trial 6 with value: 0.030335339136809133.\n",
            "[I 2024-12-21 22:16:57,622] Trial 9 finished with value: 0.014142409498872414 and parameters: {'eps': 0.8, 'min_samples': 17}. Best is trial 6 with value: 0.030335339136809133.\n",
            "[I 2024-12-21 22:16:57,706] Trial 10 finished with value: -1.0 and parameters: {'eps': 0.1, 'min_samples': 8}. Best is trial 6 with value: 0.030335339136809133.\n",
            "[I 2024-12-21 22:16:57,803] Trial 11 finished with value: 0.007274161846691623 and parameters: {'eps': 1.0, 'min_samples': 3}. Best is trial 6 with value: 0.030335339136809133.\n",
            "[I 2024-12-21 22:16:57,904] Trial 12 finished with value: 0.04166654669439056 and parameters: {'eps': 1.0, 'min_samples': 6}. Best is trial 12 with value: 0.04166654669439056.\n",
            "[I 2024-12-21 22:16:57,994] Trial 13 finished with value: 0.041175276305030234 and parameters: {'eps': 0.8, 'min_samples': 7}. Best is trial 12 with value: 0.04166654669439056.\n",
            "[I 2024-12-21 22:16:58,084] Trial 14 finished with value: 0.041175276305030234 and parameters: {'eps': 0.8, 'min_samples': 7}. Best is trial 12 with value: 0.04166654669439056.\n",
            "[I 2024-12-21 22:16:58,181] Trial 15 finished with value: 0.04470778229107695 and parameters: {'eps': 0.9, 'min_samples': 7}. Best is trial 15 with value: 0.04470778229107695.\n",
            "[I 2024-12-21 22:16:58,279] Trial 16 finished with value: 0.05005276600170577 and parameters: {'eps': 1.0, 'min_samples': 11}. Best is trial 16 with value: 0.05005276600170577.\n",
            "[I 2024-12-21 22:16:58,369] Trial 17 finished with value: 0.04663442037544857 and parameters: {'eps': 0.9, 'min_samples': 11}. Best is trial 16 with value: 0.05005276600170577.\n",
            "[I 2024-12-21 22:16:58,457] Trial 18 finished with value: 0.01217603812109985 and parameters: {'eps': 0.6, 'min_samples': 11}. Best is trial 16 with value: 0.05005276600170577.\n",
            "[I 2024-12-21 22:16:58,546] Trial 19 finished with value: 0.026374930999118692 and parameters: {'eps': 0.7000000000000001, 'min_samples': 10}. Best is trial 16 with value: 0.05005276600170577.\n",
            "[I 2024-12-21 22:16:58,548] A new study created in memory with name: no-name-119298a0-4f9f-46ae-90ce-d24c1c2cdeee\n",
            "[I 2024-12-21 22:17:00,073] Trial 0 finished with value: 0.05304276386863994 and parameters: {'min_samples': 15, 'max_eps': 1.3000000000000003}. Best is trial 0 with value: 0.05304276386863994.\n",
            "[I 2024-12-21 22:17:03,033] Trial 1 finished with value: 0.04793959480964364 and parameters: {'min_samples': 15, 'max_eps': 1.8000000000000003}. Best is trial 0 with value: 0.05304276386863994.\n",
            "[I 2024-12-21 22:17:05,687] Trial 2 finished with value: 0.013370732080394876 and parameters: {'min_samples': 9, 'max_eps': 1.8000000000000003}. Best is trial 0 with value: 0.05304276386863994.\n",
            "[I 2024-12-21 22:17:07,527] Trial 3 finished with value: 0.01310719921198984 and parameters: {'min_samples': 9, 'max_eps': 1.6}. Best is trial 0 with value: 0.05304276386863994.\n",
            "[I 2024-12-21 22:17:09,168] Trial 4 finished with value: 0.04083398581410784 and parameters: {'min_samples': 13, 'max_eps': 1.7000000000000002}. Best is trial 0 with value: 0.05304276386863994.\n",
            "[I 2024-12-21 22:17:12,174] Trial 5 finished with value: 0.005063989916085488 and parameters: {'min_samples': 6, 'max_eps': 2.0}. Best is trial 0 with value: 0.05304276386863994.\n",
            "[I 2024-12-21 22:17:12,638] Trial 6 finished with value: 0.011405901588653705 and parameters: {'min_samples': 14, 'max_eps': 0.7000000000000001}. Best is trial 0 with value: 0.05304276386863994.\n",
            "[I 2024-12-21 22:17:15,324] Trial 7 finished with value: 0.008983342000667463 and parameters: {'min_samples': 8, 'max_eps': 1.5000000000000002}. Best is trial 0 with value: 0.05304276386863994.\n",
            "[I 2024-12-21 22:17:16,143] Trial 8 finished with value: 0.033539046778774534 and parameters: {'min_samples': 13, 'max_eps': 0.9}. Best is trial 0 with value: 0.05304276386863994.\n",
            "[I 2024-12-21 22:17:16,702] Trial 9 finished with value: 0.015294302278231137 and parameters: {'min_samples': 19, 'max_eps': 0.9}. Best is trial 0 with value: 0.05304276386863994.\n",
            "[I 2024-12-21 22:17:17,027] Trial 10 finished with value: 3.8722119532072296e-05 and parameters: {'min_samples': 3, 'max_eps': 0.2}. Best is trial 0 with value: 0.05304276386863994.\n",
            "[I 2024-12-21 22:17:17,810] Trial 11 finished with value: 0.0541290835708016 and parameters: {'min_samples': 18, 'max_eps': 1.3000000000000003}. Best is trial 11 with value: 0.0541290835708016.\n",
            "[I 2024-12-21 22:17:18,580] Trial 12 finished with value: 0.047711605602631144 and parameters: {'min_samples': 19, 'max_eps': 1.3000000000000003}. Best is trial 11 with value: 0.0541290835708016.\n",
            "[I 2024-12-21 22:17:19,280] Trial 13 finished with value: 0.0459035397448257 and parameters: {'min_samples': 17, 'max_eps': 1.2000000000000002}. Best is trial 11 with value: 0.0541290835708016.\n",
            "[I 2024-12-21 22:17:19,518] Trial 14 finished with value: 0.007416175291315347 and parameters: {'min_samples': 17, 'max_eps': 0.6}. Best is trial 11 with value: 0.0541290835708016.\n",
            "[I 2024-12-21 22:17:20,224] Trial 15 finished with value: 0.037529793278416504 and parameters: {'min_samples': 20, 'max_eps': 1.3000000000000003}. Best is trial 11 with value: 0.0541290835708016.\n",
            "[I 2024-12-21 22:17:20,385] Trial 16 finished with value: 0.0005431880639132232 and parameters: {'min_samples': 16, 'max_eps': 0.4}. Best is trial 11 with value: 0.0541290835708016.\n",
            "[I 2024-12-21 22:17:21,366] Trial 17 finished with value: 0.03825651338740367 and parameters: {'min_samples': 11, 'max_eps': 1.1}. Best is trial 11 with value: 0.0541290835708016.\n",
            "[I 2024-12-21 22:17:22,381] Trial 18 finished with value: 0.05247138747993224 and parameters: {'min_samples': 17, 'max_eps': 1.4000000000000001}. Best is trial 11 with value: 0.0541290835708016.\n",
            "[I 2024-12-21 22:17:23,108] Trial 19 finished with value: 0.047649707593178776 and parameters: {'min_samples': 12, 'max_eps': 1.0}. Best is trial 11 with value: 0.0541290835708016.\n"
          ]
        }
      ]
    },
    {
      "cell_type": "code",
      "source": [
        "study_kmeans.best_params, study_dbscan.best_params, study_optics.best_params"
      ],
      "metadata": {
        "colab": {
          "base_uri": "https://localhost:8080/"
        },
        "id": "HWKx-UfsMDv5",
        "outputId": "3c49860c-1a07-4c30-9887-50579a039c24"
      },
      "execution_count": null,
      "outputs": [
        {
          "output_type": "execute_result",
          "data": {
            "text/plain": [
              "({'n_clusters': 4},\n",
              " {'eps': 1.0, 'min_samples': 11},\n",
              " {'min_samples': 18, 'max_eps': 1.3000000000000003})"
            ]
          },
          "metadata": {},
          "execution_count": 31
        }
      ]
    },
    {
      "cell_type": "code",
      "source": [
        "kmeans_best = KMeans(**study_kmeans.best_params, random_state = 42)\n",
        "kmeans_best.fit(X_train)\n",
        "kmeans_best_labels = kmeans_best.predict(X_test)\n",
        "adjusted_rand_score(y_test, kmeans_best_labels)"
      ],
      "metadata": {
        "colab": {
          "base_uri": "https://localhost:8080/"
        },
        "id": "qAdXNGK7NCss",
        "outputId": "393bee31-489c-420c-c935-55c729553d3d"
      },
      "execution_count": null,
      "outputs": [
        {
          "output_type": "execute_result",
          "data": {
            "text/plain": [
              "0.05708070812955797"
            ]
          },
          "metadata": {},
          "execution_count": 32
        }
      ]
    },
    {
      "cell_type": "code",
      "source": [
        "dbscan_best = DBSCAN(**study_dbscan.best_params)\n",
        "dbscan_best.fit(X_train)\n",
        "dbscan_labels = dbscan_best.fit_predict(X_test)\n",
        "adjusted_rand_score(y_test, dbscan_labels)"
      ],
      "metadata": {
        "colab": {
          "base_uri": "https://localhost:8080/"
        },
        "id": "Ha1T8wvMOoY6",
        "outputId": "0fbf2e39-0484-4d42-d23a-bf540893768c"
      },
      "execution_count": null,
      "outputs": [
        {
          "output_type": "execute_result",
          "data": {
            "text/plain": [
              "0.05005276600170577"
            ]
          },
          "metadata": {},
          "execution_count": 33
        }
      ]
    },
    {
      "cell_type": "code",
      "source": [
        "optics_best = OPTICS(**study_optics.best_params)\n",
        "optics_best.fit(X_train)\n",
        "optics_labels = optics_best.fit_predict(X_test)\n",
        "adjusted_rand_score(y_test, optics_labels)"
      ],
      "metadata": {
        "colab": {
          "base_uri": "https://localhost:8080/"
        },
        "id": "41WZ1_hoP681",
        "outputId": "ec058ce4-aa39-42da-f12b-d8fecdc9024f"
      },
      "execution_count": null,
      "outputs": [
        {
          "output_type": "execute_result",
          "data": {
            "text/plain": [
              "0.0541290835708016"
            ]
          },
          "metadata": {},
          "execution_count": 34
        }
      ]
    },
    {
      "cell_type": "markdown",
      "source": [
        "*Даже с использованием оверсемплинг кластеризация происходит очень плохо*"
      ],
      "metadata": {
        "id": "XBH3JZowVKKz"
      }
    }
  ]
}